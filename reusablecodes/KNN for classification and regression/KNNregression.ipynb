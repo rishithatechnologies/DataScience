{
 "cells": [
  {
   "cell_type": "code",
   "execution_count": 1,
   "metadata": {
    "collapsed": false
   },
   "outputs": [],
   "source": [
    "from sklearn.neighbors import KNeighborsRegressor\n",
    "import matplotlib.pyplot as plt\n",
    "import numpy as np\n",
    "import pandas as pd\n",
    "from sklearn import datasets\n",
    "from sklearn.model_selection import train_test_split\n",
    "from pandas.tools.plotting import scatter_matrix\n",
    "from IPython.display import clear_output"
   ]
  },
  {
   "cell_type": "code",
   "execution_count": null,
   "metadata": {
    "collapsed": true
   },
   "outputs": [],
   "source": [
    "#Abalone Dataset \n",
    "#predicting the age of abalone\n",
    "#1. Sex (M, F, I).\n",
    "#2. Length.\n",
    "#3. Diameter.\n",
    "#4. Height.\n",
    "#5. Whole weight.\n",
    "#6. Shucked weight.\n",
    "#7. Viscera weight.\n",
    "#8. Shell weight.\n",
    "#9. age."
   ]
  },
  {
   "cell_type": "code",
   "execution_count": 2,
   "metadata": {
    "collapsed": false
   },
   "outputs": [],
   "source": [
    "#load Dataset\n",
    "filename=\"E:/rt/reusablecodes/KNN classification/abalone.data\"\n",
    "\n",
    "#colum names for the dataset\n",
    "colnames = ['Sex', 'Length', 'Diameter', 'Height', 'WWeight', 'ShuckedWeight', 'VWeight', 'ShellWeight', 'age']\n",
    "#data in the file is seperated with whitespace\n",
    "dataset = pd.read_csv(filename,names=colnames)\n",
    "\n",
    "\n"
   ]
  },
  {
   "cell_type": "code",
   "execution_count": 3,
   "metadata": {
    "collapsed": false
   },
   "outputs": [],
   "source": [
    "print dataset.shape\n",
    "# check datatypes for any wrong datatypes\n",
    "print(dataset.dtypes)\n",
    "print dataset.head()\n"
   ]
  },
  {
   "cell_type": "code",
   "execution_count": 5,
   "metadata": {
    "collapsed": false
   },
   "outputs": [],
   "source": [
    "\n",
    "# descriptions;summarize the distribution of each attribute.\n",
    "print dataset.describe()\n",
    "\n",
    "# correlation matrix\n",
    "print(dataset.corr(method='pearson'))\n",
    "\n"
   ]
  },
  {
   "cell_type": "code",
   "execution_count": 7,
   "metadata": {
    "collapsed": false
   },
   "outputs": [],
   "source": [
    "#checks if any column has None. Make sure None is not there\n",
    "print dataset.isnull()\n",
    "print dataset.isnull().any()\n",
    "print dataset.isnull().values.any()\n",
    "\n"
   ]
  },
  {
   "cell_type": "code",
   "execution_count": 9,
   "metadata": {
    "collapsed": false
   },
   "outputs": [],
   "source": [
    "#examine Sex column which is Object \n",
    "dataset[\"Sex\"].unique()\n",
    "\n"
   ]
  },
  {
   "cell_type": "code",
   "execution_count": 11,
   "metadata": {
    "collapsed": false
   },
   "outputs": [],
   "source": [
    "#replace F with number 0. convert into numbers\n",
    "dataset.Sex=dataset.Sex.replace([\"F\"],0)\n",
    "dataset.Sex=dataset.Sex.replace([\"M\"],1)\n",
    "dataset[\"Sex\"]=dataset.Sex.replace([\"I\"],2)\n",
    "\n"
   ]
  },
  {
   "cell_type": "code",
   "execution_count": 13,
   "metadata": {
    "collapsed": false
   },
   "outputs": [],
   "source": [
    "#examine Sex column which is converted to int\n",
    "dataset[\"Sex\"].unique()\n"
   ]
  },
  {
   "cell_type": "code",
   "execution_count": 15,
   "metadata": {
    "collapsed": false
   },
   "outputs": [],
   "source": [
    "#describe the model with visualization \n",
    "\n",
    "# histograms\n",
    "dataset.hist(sharex=False, sharey=False, xlabelsize=1, ylabelsize=1)\n",
    "plt.show()\n",
    "\n",
    "\n"
   ]
  },
  {
   "cell_type": "code",
   "execution_count": 17,
   "metadata": {
    "collapsed": false
   },
   "outputs": [],
   "source": [
    "# density plot\n",
    "dataset.plot(kind='density', subplots=True, layout=(4,4), sharex=False, legend=False,\n",
    "fontsize=1)\n",
    "plt.show()\n",
    "\n",
    "\n"
   ]
  },
  {
   "cell_type": "code",
   "execution_count": 19,
   "metadata": {
    "collapsed": false
   },
   "outputs": [],
   "source": [
    "# box and whisker plots\n",
    "dataset.plot(kind='box', subplots=True, layout=(4,4), sharex=False, sharey=False,fontsize=8)\n",
    "plt.show()\n",
    "\n"
   ]
  },
  {
   "cell_type": "code",
   "execution_count": 175,
   "metadata": {
    "collapsed": false
   },
   "outputs": [],
   "source": [
    "#Multimodal Data Visualizations\n",
    "# scatter plot matrix\n",
    "\n",
    "scatter_matrix(dataset)\n",
    "plt.show()\n",
    "\n",
    "\n"
   ]
  },
  {
   "cell_type": "code",
   "execution_count": 20,
   "metadata": {
    "collapsed": false
   },
   "outputs": [],
   "source": [
    "#split data randomly\n",
    "train_input_features,test_input_features,train_output,test_output=train_test_split(dataset[dataset.columns[0:8]],dataset[dataset.columns[8]],test_size=0.33,random_state=42)\n",
    "print \"dataset shape \",dataset.shape\n",
    "print \"train_input_features shape \",train_input_features.shape\n",
    "print \"train_output shape\",train_output.shape\n",
    "print \"test_input_features shape \",test_input_features.shape\n",
    "print \"test_output shape\",test_output.shape\n",
    "\n"
   ]
  },
  {
   "cell_type": "code",
   "execution_count": 21,
   "metadata": {
    "collapsed": false
   },
   "outputs": [],
   "source": [
    "\n",
    "print \"input features: \",train_input_features.head()\n",
    "print \"\"\n",
    "print \"label data: \",train_output.head()\n",
    "\n"
   ]
  },
  {
   "cell_type": "code",
   "execution_count": 23,
   "metadata": {
    "collapsed": false
   },
   "outputs": [],
   "source": [
    "#manhattan\n",
    "#minkowski\n",
    "#euclidean\n",
    "#jaccard\n",
    "#mahalanobis\n",
    "#cosine\n",
    "#tanimoto\n",
    "knn_model=KNeighborsRegressor(n_neighbors=3,metric='euclidean')            #initialize the model\n",
    "#train_input_features & train_output are dataframes. not numpy arrays.\n",
    "knn_model.fit(train_input_features,train_output)            #Train the model\n",
    "\n",
    "\n",
    "\n"
   ]
  },
  {
   "cell_type": "code",
   "execution_count": 24,
   "metadata": {
    "collapsed": false
   },
   "outputs": [],
   "source": [
    "# see how it is prediting on training data\n",
    "results_train=pd.DataFrame()\n",
    "results_train[\"pred\"]=knn_model.predict(train_input_features)\n",
    "results_train[\"actual\"]=train_output.values\n",
    "\n"
   ]
  },
  {
   "cell_type": "code",
   "execution_count": 27,
   "metadata": {
    "collapsed": false
   },
   "outputs": [],
   "source": [
    "results_train.head()\n"
   ]
  },
  {
   "cell_type": "code",
   "execution_count": 28,
   "metadata": {
    "collapsed": false
   },
   "outputs": [],
   "source": [
    "#calculate the R^2 using score funtion\n",
    "knn_model.score(train_input_features,train_output)\n"
   ]
  },
  {
   "cell_type": "code",
   "execution_count": 30,
   "metadata": {
    "collapsed": false
   },
   "outputs": [],
   "source": [
    "#see prediction with random vector\n",
    "knn_model.predict([1,1,1,1,1,1,1,1])\n",
    "\n"
   ]
  },
  {
   "cell_type": "code",
   "execution_count": 31,
   "metadata": {
    "collapsed": false
   },
   "outputs": [],
   "source": [
    "#see how it is performing on test data\n",
    "results_test=pd.DataFrame()\n",
    "results_test[\"pred\"]=knn_model.predict(test_input_features)\n",
    "results_test[\"actual\"]=test_output.values"
   ]
  },
  {
   "cell_type": "code",
   "execution_count": 33,
   "metadata": {
    "collapsed": false
   },
   "outputs": [],
   "source": [
    "results_test.head()\n",
    "\n",
    "\n"
   ]
  },
  {
   "cell_type": "code",
   "execution_count": 34,
   "metadata": {
    "collapsed": false
   },
   "outputs": [
    {
     "data": {
      "text/plain": [
       "0.46576425040115887"
      ]
     },
     "execution_count": 34,
     "metadata": {},
     "output_type": "execute_result"
    }
   ],
   "source": [
    "#calculate the accuracy using score funtion\n",
    "knn_model.score(test_input_features,test_output)\n",
    "\n"
   ]
  },
  {
   "cell_type": "code",
   "execution_count": 35,
   "metadata": {
    "collapsed": true
   },
   "outputs": [],
   "source": [
    "# Calculate root mean squared error\n",
    "def RMSE(groundTruth,predictions):\n",
    "    error_squeare=(groundTruth-predictions)**2\n",
    "    MSE=np.mean(error_squeare)\n",
    "    RMSE=np.sqrt(MSE)\n",
    "    return RMSE"
   ]
  },
  {
   "cell_type": "code",
   "execution_count": 36,
   "metadata": {
    "collapsed": false
   },
   "outputs": [
    {
     "data": {
      "text/plain": [
       "1.6346337934808506"
      ]
     },
     "execution_count": 36,
     "metadata": {},
     "output_type": "execute_result"
    }
   ],
   "source": [
    "#find RMSE. error of the model for train data\n",
    "\n",
    "RMSE(results_train[\"actual\"],results_train[\"pred\"])"
   ]
  },
  {
   "cell_type": "code",
   "execution_count": 37,
   "metadata": {
    "collapsed": false
   },
   "outputs": [
    {
     "data": {
      "text/plain": [
       "2.326815026025312"
      ]
     },
     "execution_count": 37,
     "metadata": {},
     "output_type": "execute_result"
    }
   ],
   "source": [
    "#find RMSE. error of the model for test data\n",
    "RMSE(results_test[results_test[\"actual\"],\"pred\"])"
   ]
  },
  {
   "cell_type": "code",
   "execution_count": null,
   "metadata": {
    "collapsed": true
   },
   "outputs": [],
   "source": []
  }
 ],
 "metadata": {
  "kernelspec": {
   "display_name": "Python 2",
   "language": "python",
   "name": "python2"
  },
  "language_info": {
   "codemirror_mode": {
    "name": "ipython",
    "version": 2
   },
   "file_extension": ".py",
   "mimetype": "text/x-python",
   "name": "python",
   "nbconvert_exporter": "python",
   "pygments_lexer": "ipython2",
   "version": "2.7.13"
  }
 },
 "nbformat": 4,
 "nbformat_minor": 2
}
