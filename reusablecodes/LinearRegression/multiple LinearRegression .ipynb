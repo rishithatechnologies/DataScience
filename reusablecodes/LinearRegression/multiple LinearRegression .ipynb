{
 "cells": [
  {
   "cell_type": "code",
   "execution_count": 34,
   "metadata": {
    "collapsed": false
   },
   "outputs": [],
   "source": [
    "from sklearn.linear_model import LinearRegression\n",
    "import matplotlib.pyplot as plt\n",
    "import numpy as np\n",
    "import pandas as pd\n",
    "from sklearn import datasets\n",
    "from sklearn.model_selection import train_test_split\n",
    "from pandas.tools.plotting import scatter_matrix\n",
    "from IPython.display import clear_output"
   ]
  },
  {
   "cell_type": "code",
   "execution_count": 24,
   "metadata": {
    "collapsed": false
   },
   "outputs": [
    {
     "name": "stdout",
     "output_type": "stream",
     "text": [
      "\n"
     ]
    }
   ],
   "source": [
    "# Calculate root mean squared error\n",
    "def RMSE(groundTruth,predictions):\n",
    "    error_squeare=(groundTruth-predictions)**2\n",
    "    MSE=np.mean(error_squeare)\n",
    "    RMSE=np.sqrt(MSE)\n",
    "    return RMSE\n",
    "    "
   ]
  },
  {
   "cell_type": "code",
   "execution_count": null,
   "metadata": {
    "collapsed": true
   },
   "outputs": [],
   "source": [
    "#1. CRIM: per capita crime rate by town\n",
    "#2. ZN: proportion of residential land zoned for lots over 25,000 sq.ft.\n",
    "#3. INDUS: proportion of non-retail business acres per town\n",
    "#4. CHAS: Charles River dummy variable (= 1 if tract bounds river; 0 otherwise)\n",
    "#5. NOX: nitric oxides concentration (parts per 10 million)\n",
    "#6. RM: average number of rooms per dwelling\n",
    "#7. AGE: proportion of owner-occupied units built prior to 1940\n",
    "#8. DIS: weighted distances to \f",
    "ve Boston employment centers\n",
    "#9. RAD: index of accessibility to radial highways\n",
    "#10. TAX: full-value property-tax rate per $10,000\n",
    "#11. PTRATIO: pupil-teacher ratio by town\n",
    "#12. B: 1000(Bk 􀀀 0:63)2 where Bk is the proportion of blacks by town\n",
    "#13. LSTAT: % lower status of the population\n",
    "#14. MEDV: Median value of owner-occupied homes in $1000s    "
   ]
  },
  {
   "cell_type": "code",
   "execution_count": 44,
   "metadata": {
    "collapsed": false
   },
   "outputs": [],
   "source": [
    "filename=\"E:/rt/reusablecodes/LinearRegression/housing.csv\"\n",
    "\n",
    "#colum names for the dataset\n",
    "colnames = ['CRIM', 'ZN', 'INDUS', 'CHAS', 'NOX', 'RM', 'AGE', 'DIS', 'RAD', 'TAX', 'PTRATIO','B', 'LSTAT', 'MEDV']\n",
    "#data in the file is seperated with whitespace\n",
    "dataset = pd.read_csv(filename,delim_whitespace=True,names=colnames)\n",
    "\n",
    "\n",
    "print dataset.shape\n",
    "# check datatypes for any wrong datatypes\n",
    "print(dataset.dtypes)\n",
    "print dataset.head()\n",
    "\n",
    "# descriptions;summarize the distribution of each attribute.\n",
    "pd.set_option('precision', 1)\n",
    "print(dataset.describe())\n",
    "\n",
    "# correlation matrix\n",
    "pd.set_option('precision', 2)\n",
    "print(dataset.corr(method='pearson'))\n",
    "\n",
    "\n",
    "\n"
   ]
  },
  {
   "cell_type": "code",
   "execution_count": 45,
   "metadata": {
    "collapsed": false
   },
   "outputs": [],
   "source": [
    "#describe the model with visualization \n",
    "\n",
    "# histograms\n",
    "dataset.hist(sharex=False, sharey=False, xlabelsize=1, ylabelsize=1)\n",
    "plt.show()\n",
    "\n",
    "\n"
   ]
  },
  {
   "cell_type": "code",
   "execution_count": 46,
   "metadata": {
    "collapsed": false
   },
   "outputs": [],
   "source": [
    "# density plot\n",
    "dataset.plot(kind='density', subplots=True, layout=(4,4), sharex=False, legend=False,\n",
    "fontsize=1)\n",
    "plt.show()\n",
    "\n",
    "\n"
   ]
  },
  {
   "cell_type": "code",
   "execution_count": 47,
   "metadata": {
    "collapsed": false
   },
   "outputs": [],
   "source": [
    "# box and whisker plots\n",
    "dataset.plot(kind='box', subplots=True, layout=(4,4), sharex=False, sharey=False,\n",
    "fontsize=8)\n",
    "plt.show()\n",
    "\n"
   ]
  },
  {
   "cell_type": "code",
   "execution_count": 48,
   "metadata": {
    "collapsed": false
   },
   "outputs": [],
   "source": [
    "#Multimodal Data Visualizations\n",
    "# scatter plot matrix\n",
    "\n",
    "scatter_matrix(dataset)\n",
    "plt.show()\n",
    "\n"
   ]
  },
  {
   "cell_type": "code",
   "execution_count": 41,
   "metadata": {
    "collapsed": false
   },
   "outputs": [
    {
     "name": "stdout",
     "output_type": "stream",
     "text": [
      "train size:  354\n"
     ]
    }
   ],
   "source": [
    "#typecasting into int to avoid fractions \n",
    "train_size=int(dataset.shape[0]*.7)\n",
    "print \"train size: \",train_size"
   ]
  },
  {
   "cell_type": "code",
   "execution_count": 42,
   "metadata": {
    "collapsed": false
   },
   "outputs": [
    {
     "name": "stdout",
     "output_type": "stream",
     "text": [
      "dataset shape  (506, 14)\n",
      "trainDataset shape  (354, 14)\n",
      "testDataset shape  (152, 14)\n"
     ]
    }
   ],
   "source": [
    "#use trainDataset for training the model\n",
    "trainDataset = dataset[:train_size]\n",
    "#use testDataset for testing the model\n",
    "testDataset = dataset[train_size:]\n",
    "print \"dataset shape \",dataset.shape\n",
    "print \"trainDataset shape \",trainDataset.shape\n",
    "print \"testDataset shape \",testDataset.shape"
   ]
  },
  {
   "cell_type": "code",
   "execution_count": 49,
   "metadata": {
    "collapsed": false
   },
   "outputs": [],
   "source": [
    "#convert into numpy array\n",
    "np_train=trainDataset.values\n",
    "\n",
    "#split input features and output\n",
    "train_input_features=np_train[:,0:13]\n",
    "train_output=np_train[:,13]\n",
    "print train_input_features[0:5,:]\n",
    "print train_output[0:5]\n",
    "\n",
    "\n"
   ]
  },
  {
   "cell_type": "code",
   "execution_count": 50,
   "metadata": {
    "collapsed": false
   },
   "outputs": [],
   "source": [
    "#convert into numpy array on test dataset\n",
    "np_test=testDataset.values\n",
    "\n",
    "#split input features and output\n",
    "test_input_features=np_test[:,0:13]\n",
    "test_output=np_test[:,13]\n",
    "print test_input_features[0:5,:]\n",
    "print test_output[0:5]\n",
    "\n"
   ]
  },
  {
   "cell_type": "code",
   "execution_count": null,
   "metadata": {
    "collapsed": true
   },
   "outputs": [],
   "source": []
  },
  {
   "cell_type": "code",
   "execution_count": 51,
   "metadata": {
    "collapsed": false
   },
   "outputs": [],
   "source": [
    "lreg_model=LinearRegression()              #initialize the model\n",
    "lreg_model.fit(train_input_features,train_output)            #Train the model\n",
    "\n",
    "print \"slope: \",lreg_model.coef_\n",
    "print \"intercept: \",lreg_model.intercept_\n",
    "\n"
   ]
  },
  {
   "cell_type": "code",
   "execution_count": 25,
   "metadata": {
    "collapsed": false
   },
   "outputs": [
    {
     "name": "stdout",
     "output_type": "stream",
     "text": [
      "0.873281645658\n",
      "SSE(sum of squared error):  3184.36540606\n",
      "RMSE on Training data: 2.99923031843\n"
     ]
    },
    {
     "name": "stderr",
     "output_type": "stream",
     "text": [
      "C:\\ProgramData\\Anaconda2\\lib\\site-packages\\sklearn\\utils\\deprecation.py:70: DeprecationWarning: Function residues_ is deprecated; ``residues_`` is deprecated and will be removed in 0.19\n",
      "  warnings.warn(msg, category=DeprecationWarning)\n"
     ]
    }
   ],
   "source": [
    "#calculate R square (coefficient of determination) on training data\n",
    "#the higher the R-square is , the better the model is\n",
    "print lreg_model.score(train_input_features,train_output)\n",
    "\n",
    "#calculate SSE (sum of squared error)\n",
    "print \"SSE(sum of squared error): \",lreg_model.residues_\n",
    "\n",
    "#Calculate RMSE for trained data\n",
    "\n",
    "print \"RMSE on Training data:\", RMSE(lreg_model.predict(train_input_features),train_output)"
   ]
  },
  {
   "cell_type": "code",
   "execution_count": 52,
   "metadata": {
    "collapsed": false
   },
   "outputs": [],
   "source": [
    "#Testing/Validation of the Model using test data\n",
    "\n",
    "#calculate R square (coefficient of determination) on test data\n",
    "#the higher the R-square is , the better the model is\n",
    "\n",
    "print lreg_model.score(test_input_features,test_output)\n",
    "\n"
   ]
  },
  {
   "cell_type": "code",
   "execution_count": 28,
   "metadata": {
    "collapsed": false
   },
   "outputs": [],
   "source": [
    "# Calculate root mean squared error\n",
    "def RMSE(groundTruth,predictions):\n",
    "    error_squeare=(groundTruth-predictions)**2\n",
    "    MSE=np.mean(error_squeare)\n",
    "    RMSE=np.sqrt(MSE)\n",
    "    return RMSE\n",
    "    \n",
    "    "
   ]
  }
 ],
 "metadata": {
  "kernelspec": {
   "display_name": "Python 2",
   "language": "python",
   "name": "python2"
  },
  "language_info": {
   "codemirror_mode": {
    "name": "ipython",
    "version": 2
   },
   "file_extension": ".py",
   "mimetype": "text/x-python",
   "name": "python",
   "nbconvert_exporter": "python",
   "pygments_lexer": "ipython2",
   "version": "2.7.13"
  }
 },
 "nbformat": 4,
 "nbformat_minor": 2
}
