{
 "cells": [
  {
   "cell_type": "code",
   "execution_count": 50,
   "metadata": {
    "collapsed": false
   },
   "outputs": [],
   "source": [
    "from sklearn.linear_model import LinearRegression\n",
    "import matplotlib.pyplot as plt\n",
    "import numpy as np\n",
    "import pandas as pd\n",
    "from sklearn import datasets\n",
    "from sklearn.model_selection import train_test_split\n"
   ]
  },
  {
   "cell_type": "code",
   "execution_count": 9,
   "metadata": {
    "collapsed": false
   },
   "outputs": [
    {
     "name": "stdout",
     "output_type": "stream",
     "text": [
      "   id  Stress  Symptoms\n",
      "0   1      30        99\n",
      "1   2      27        94\n",
      "2   3       9        80\n",
      "3   4      20        70\n",
      "4   5       3       100\n",
      "[[27]\n",
      " [ 9]\n",
      " [20]\n",
      " [ 3]]\n",
      "(107L, 1L)\n",
      "[ 94  80  70 100]\n",
      "(107L,)\n"
     ]
    }
   ],
   "source": [
    "stressSymptomsFile=\"E:/rt/LinearRegression/stresssymptoms.csv\"\n",
    "\n",
    "stressSymptoms = pd.read_csv(stressSymptomsFile,header=0)\n",
    "print stressSymptoms.head()\n",
    "\n",
    "np_array=stressSymptoms.values\n",
    "stress=np_array[:,1:2]\n",
    "symptoms=np_array[:,2]\n",
    "\n",
    "\n",
    "print stress[1:5]\n",
    "print stress.shape\n",
    "print symptoms[1:5]\n",
    "print symptoms.shape"
   ]
  },
  {
   "cell_type": "code",
   "execution_count": 81,
   "metadata": {
    "collapsed": false
   },
   "outputs": [],
   "source": []
  },
  {
   "cell_type": "code",
   "execution_count": 3,
   "metadata": {
    "collapsed": false
   },
   "outputs": [
    {
     "name": "stdout",
     "output_type": "stream",
     "text": [
      "slope:  [ 0.78311451]\n",
      "intercept:  73.8895884766\n"
     ]
    }
   ],
   "source": [
    "lreg_model=LinearRegression()              #initialize the model\n",
    "lreg_model.fit(stress,symptoms)            #Train the model\n",
    "\n",
    "print \"slope: \",lreg_model.coef_\n",
    "print \"intercept: \",lreg_model.intercept_\n",
    "\n",
    "\n"
   ]
  },
  {
   "cell_type": "code",
   "execution_count": 21,
   "metadata": {
    "collapsed": false
   },
   "outputs": [
    {
     "name": "stdout",
     "output_type": "stream",
     "text": [
      "predicted value:  [ 76.23893201  77.02204652]\n"
     ]
    }
   ],
   "source": [
    "# predicting from the model\n",
    "stress_test=np.array([[3],[4]])\n",
    "print \"predicted value: \",lreg_model.predict(stress_test)\n"
   ]
  },
  {
   "cell_type": "code",
   "execution_count": 44,
   "metadata": {
    "collapsed": false
   },
   "outputs": [
    {
     "name": "stdout",
     "output_type": "stream",
     "text": [
      "0.256081947463\n",
      "                id    Stress  Symptoms\n",
      "id        1.000000 -0.027509 -0.020011\n",
      "Stress   -0.027509  1.000000  0.506045\n",
      "Symptoms -0.020011  0.506045  1.000000\n",
      "            stresspred  symptoms\n",
      "stresspred    1.000000  0.506045\n",
      "symptoms      0.506045  1.000000\n"
     ]
    }
   ],
   "source": [
    "#calculate R square\n",
    "print lreg_model.score(stress,symptoms)\n",
    "print stressSymptoms.corr()\n"
   ]
  },
  {
   "cell_type": "code",
   "execution_count": 49,
   "metadata": {
    "collapsed": false
   },
   "outputs": [
    {
     "data": {
      "text/plain": [
       "17.397509842866427"
      ]
     },
     "execution_count": 49,
     "metadata": {},
     "output_type": "execute_result"
    }
   ],
   "source": [
    "RMSE(lreg_model.predict(stress),symptoms)"
   ]
  },
  {
   "cell_type": "code",
   "execution_count": 66,
   "metadata": {
    "collapsed": false
   },
   "outputs": [
    {
     "data": {
      "image/png": "[encoded data removed]",
      "text/plain": [
       "<matplotlib.figure.Figure at 0xd14ef60>"
      ]
     },
     "metadata": {},
     "output_type": "display_data"
    }
   ],
   "source": [
    "# Plot outputs\n",
    "plt.scatter(stress, symptoms,  color='black')\n",
    "plt.plot(stress,lreg_model.predict(stress), color='blue',linewidth=3)\n",
    "#plt.xticks(())\n",
    "#plt.yticks(())\n",
    "plt.show()"
   ]
  },
  {
   "cell_type": "code",
   "execution_count": 28,
   "metadata": {
    "collapsed": false
   },
   "outputs": [],
   "source": [
    "# Calculate root mean squared error\n",
    "def RMSE(groundTruth,predictions):\n",
    "    error_squeare=(groundTruth-predictions)**2\n",
    "    MSE=np.mean(error_squeare)\n",
    "    RMSE=np.sqrt(MSE)\n",
    "    return RMSE\n",
    "    \n",
    "    "
   ]
  },
  {
   "cell_type": "code",
   "execution_count": 19,
   "metadata": {
    "collapsed": false
   },
   "outputs": [
    {
     "data": {
      "text/plain": [
       "1.0"
      ]
     },
     "execution_count": 19,
     "metadata": {},
     "output_type": "execute_result"
    }
   ],
   "source": [
    "RMSE(np.array([1,1,1,1]),np.array([2,2,2,2]))"
   ]
  },
  {
   "cell_type": "code",
   "execution_count": 120,
   "metadata": {
    "collapsed": false
   },
   "outputs": [
    {
     "name": "stdout",
     "output_type": "stream",
     "text": [
      "0.256081947463\n",
      "                id    Stress  Symptoms\n",
      "id        1.000000 -0.027509 -0.020011\n",
      "Stress   -0.027509  1.000000  0.506045\n",
      "Symptoms -0.020011  0.506045  1.000000\n"
     ]
    }
   ],
   "source": []
  },
  {
   "cell_type": "code",
   "execution_count": 110,
   "metadata": {
    "collapsed": false
   },
   "outputs": [
    {
     "name": "stdout",
     "output_type": "stream",
     "text": [
      "<type 'numpy.ndarray'>\n",
      "(422L, 1L)\n",
      "<type 'numpy.ndarray'>\n",
      "(422L,)\n"
     ]
    }
   ],
   "source": [
    "print type(diabetes_X_train)\n",
    "print diabetes_X_train.shape\n",
    "\n",
    "print type(diabetes_y_train)\n",
    "print diabetes_y_train.shape"
   ]
  },
  {
   "cell_type": "code",
   "execution_count": null,
   "metadata": {
    "collapsed": true
   },
   "outputs": [],
   "source": []
  },
  {
   "cell_type": "code",
   "execution_count": 8,
   "metadata": {
    "collapsed": true
   },
   "outputs": [],
   "source": []
  },
  {
   "cell_type": "code",
   "execution_count": null,
   "metadata": {
    "collapsed": true
   },
   "outputs": [],
   "source": []
  }
 ],
 "metadata": {
  "kernelspec": {
   "display_name": "Python 2",
   "language": "python",
   "name": "python2"
  },
  "language_info": {
   "codemirror_mode": {
    "name": "ipython",
    "version": 2
   },
   "file_extension": ".py",
   "mimetype": "text/x-python",
   "name": "python",
   "nbconvert_exporter": "python",
   "pygments_lexer": "ipython2",
   "version": "2.7.13"
  }
 },
 "nbformat": 4,
 "nbformat_minor": 2
}
