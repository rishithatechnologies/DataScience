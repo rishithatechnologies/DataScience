{
 "cells": [
  {
   "cell_type": "code",
   "execution_count": 47,
   "metadata": {
    "collapsed": false
   },
   "outputs": [],
   "source": [
    "from sklearn.linear_model import LinearRegression\n",
    "import matplotlib.pyplot as plt\n",
    "import numpy as np\n",
    "import pandas as pd\n",
    "from sklearn import datasets\n",
    "from sklearn.model_selection import train_test_split\n",
    "from pandas.tools.plotting import scatter_matrix\n",
    "from IPython.display import clear_output"
   ]
  },
  {
   "cell_type": "code",
   "execution_count": 9,
   "metadata": {
    "collapsed": false
   },
   "outputs": [
    {
     "name": "stdout",
     "output_type": "stream",
     "text": [
      "\n"
     ]
    }
   ],
   "source": [
    "# Calculate root mean squared error\n",
    "def RMSE(groundTruth,predictions):\n",
    "    error_squeare=(groundTruth-predictions)**2\n",
    "    MSE=np.mean(error_squeare)\n",
    "    RMSE=np.sqrt(MSE)\n",
    "    return RMSE\n",
    "    "
   ]
  },
  {
   "cell_type": "code",
   "execution_count": 51,
   "metadata": {
    "collapsed": false
   },
   "outputs": [],
   "source": [
    "stressSymptomsFile=\"E:/rt/reusablecodes/LinearRegression/stresssymptoms.csv\"\n",
    "\n",
    "stressSymptoms = pd.read_csv(stressSymptomsFile,header=0)\n"
   ]
  },
  {
   "cell_type": "code",
   "execution_count": 52,
   "metadata": {
    "collapsed": false
   },
   "outputs": [],
   "source": [
    "# shape (to check size dataset)\n",
    "print(stressSymptoms.shape)\n"
   ]
  },
  {
   "cell_type": "code",
   "execution_count": 53,
   "metadata": {
    "collapsed": false
   },
   "outputs": [],
   "source": [
    "# check datatypes for any wrong datatypes\n",
    "print(stressSymptoms.dtypes)\n",
    "\n"
   ]
  },
  {
   "cell_type": "code",
   "execution_count": 54,
   "metadata": {
    "collapsed": false
   },
   "outputs": [],
   "source": [
    "#peek the top few data\n",
    "print stressSymptoms.head()\n",
    "\n"
   ]
  },
  {
   "cell_type": "code",
   "execution_count": 55,
   "metadata": {
    "collapsed": false
   },
   "outputs": [],
   "source": [
    "# descriptions;summarize the distribution of each attribute.\n",
    "pd.set_option('precision', 1)\n",
    "print(stressSymptoms.describe())\n",
    "\n"
   ]
  },
  {
   "cell_type": "code",
   "execution_count": 56,
   "metadata": {
    "collapsed": false
   },
   "outputs": [],
   "source": [
    "# correlation matrix\n",
    "pd.set_option('precision', 2)\n",
    "print(stressSymptoms.corr(method='pearson'))\n",
    "\n"
   ]
  },
  {
   "cell_type": "code",
   "execution_count": 57,
   "metadata": {
    "collapsed": false
   },
   "outputs": [],
   "source": [
    "#describe the model with visualization \n",
    "\n",
    "# histograms\n",
    "stressSymptoms.hist(sharex=False, sharey=False, xlabelsize=1, ylabelsize=1)\n",
    "plt.show()\n",
    "\n"
   ]
  },
  {
   "cell_type": "code",
   "execution_count": 58,
   "metadata": {
    "collapsed": false
   },
   "outputs": [],
   "source": [
    "# density plot\n",
    "stressSymptoms.plot(kind='density', subplots=True, layout=(4,4), sharex=False, legend=False,\n",
    "fontsize=1)\n",
    "plt.show()\n",
    "\n"
   ]
  },
  {
   "cell_type": "code",
   "execution_count": 59,
   "metadata": {
    "collapsed": false
   },
   "outputs": [],
   "source": [
    "# box and whisker plots\n",
    "stressSymptoms.plot(kind='box', subplots=True, layout=(4,4), sharex=False, sharey=False,\n",
    "fontsize=8)\n",
    "plt.show()\n",
    "\n",
    "\n"
   ]
  },
  {
   "cell_type": "code",
   "execution_count": 60,
   "metadata": {
    "collapsed": false
   },
   "outputs": [],
   "source": [
    "#Multimodal Data Visualizations\n",
    "# scatter plot matrix\n",
    "\n",
    "scatter_matrix(stressSymptoms)\n",
    "plt.show()\n",
    "\n",
    "\n"
   ]
  },
  {
   "cell_type": "code",
   "execution_count": 61,
   "metadata": {
    "collapsed": false
   },
   "outputs": [],
   "source": [
    "#typecasting into int to avoid fractions \n",
    "train_size=int(stressSymptoms.shape[0]*.7)\n",
    "print \"train size: \",train_size\n",
    "\n",
    "seed = 7\n",
    "#X_train, X_validation, Y_train, Y_validation = train_test_split(X, Y,\n",
    "#test_size=validation_size, random_state=seed)\n",
    "\n"
   ]
  },
  {
   "cell_type": "code",
   "execution_count": 62,
   "metadata": {
    "collapsed": false
   },
   "outputs": [],
   "source": [
    "\n",
    "#use trainDataset for training the model\n",
    "trainDataset = stressSymptoms[:train_size]\n",
    "#use testDataset for testing the model\n",
    "testDataset = stressSymptoms[train_size:]\n",
    "print \"dataset shape \",stressSymptoms.shape\n",
    "print \"trainDataset shape \",trainDataset.shape\n",
    "print \"testDataset shape \",testDataset.shape\n",
    "\n"
   ]
  },
  {
   "cell_type": "code",
   "execution_count": 65,
   "metadata": {
    "collapsed": false
   },
   "outputs": [],
   "source": [
    "#convert into numpy array\n",
    "np_train=trainDataset.values\n",
    "\n",
    "#split input features and output\n",
    "train_input_features=np_train[:,1:2]\n",
    "train_output=np_train[:,2]\n",
    "print train_input_features[0:5,:]\n",
    "print train_output[0:5]\n"
   ]
  },
  {
   "cell_type": "code",
   "execution_count": 70,
   "metadata": {
    "collapsed": false
   },
   "outputs": [],
   "source": [
    "#convert into numpy array on test dataset\n",
    "np_test=testDataset.values\n",
    "\n",
    "#split input features and output\n",
    "test_input_features=np_test[:,1:2]\n",
    "test_output=np_test[:,2]\n",
    "print test_input_features[0:5,:]\n",
    "print test_output[0:5]\n"
   ]
  },
  {
   "cell_type": "code",
   "execution_count": 68,
   "metadata": {
    "collapsed": false
   },
   "outputs": [],
   "source": [
    "lreg_model=LinearRegression()              #initialize the model\n",
    "lreg_model.fit(train_input_features,train_output)            #Train the model\n",
    "\n",
    "print \"slope: \",lreg_model.coef_\n",
    "print \"intercept: \",lreg_model.intercept_\n",
    "\n",
    "\n"
   ]
  },
  {
   "cell_type": "code",
   "execution_count": 72,
   "metadata": {
    "collapsed": false
   },
   "outputs": [],
   "source": [
    "#calculate R square (coefficient of determination) on training data\n",
    "#the higher the R-square is , the better the model is\n",
    "print lreg_model.score(train_input_features,train_output)\n",
    "\n",
    "#calculate SSE (sum of squared error)\n",
    "print \"SSE(sum of squared error): \",lreg_model.residues_\n",
    "\n",
    "#Calculate RMSE for trained data\n",
    "\n",
    "print \"RMSE on Training data:\", RMSE(lreg_model.predict(train_input_features),train_output)\n",
    "\n",
    "\n"
   ]
  },
  {
   "cell_type": "code",
   "execution_count": 73,
   "metadata": {
    "collapsed": false
   },
   "outputs": [],
   "source": [
    "#Testing/Validation of the Model using test data\n",
    "\n",
    "#calculate R square (coefficient of determination) on test data\n",
    "#the higher the R-square is , the better the model is\n",
    "\n",
    "print lreg_model.score(test_input_features,test_output)\n",
    "\n",
    "#Calculate RMSE for test data\n",
    "\n",
    "print \"RMSE on test data:\", RMSE(lreg_model.predict(test_input_features),test_output)\n",
    "\n",
    "\n"
   ]
  },
  {
   "cell_type": "code",
   "execution_count": 75,
   "metadata": {
    "collapsed": false
   },
   "outputs": [],
   "source": [
    "# Plot outputs\n",
    "plt.scatter(train_input_features, train_output,  color='black')\n",
    "plt.plot(train_input_features,lreg_model.predict(train_input_features), color='blue',linewidth=3)\n",
    "#plt.xticks(())\n",
    "#plt.yticks(())\n",
    "plt.show()\n",
    "\n",
    "\n"
   ]
  },
  {
   "cell_type": "code",
   "execution_count": 76,
   "metadata": {
    "collapsed": false
   },
   "outputs": [],
   "source": [
    "# Plot outputs\n",
    "plt.scatter(test_input_features, test_output,  color='black')\n",
    "plt.plot(test_input_features,lreg_model.predict(test_input_features), color='blue',linewidth=3)\n",
    "#plt.xticks(())\n",
    "#plt.yticks(())\n",
    "plt.show()\n",
    "\n",
    "\n"
   ]
  },
  {
   "cell_type": "code",
   "execution_count": 77,
   "metadata": {
    "collapsed": false
   },
   "outputs": [],
   "source": [
    "# predicting from the model\n",
    "stress_test=np.array([[15]])\n",
    "print \"predicted value: \",lreg_model.predict(stress_test)\n"
   ]
  },
  {
   "cell_type": "code",
   "execution_count": 28,
   "metadata": {
    "collapsed": false
   },
   "outputs": [],
   "source": [
    "# Calculate root mean squared error\n",
    "def RMSE(groundTruth,predictions):\n",
    "    error_squeare=(groundTruth-predictions)**2\n",
    "    MSE=np.mean(error_squeare)\n",
    "    RMSE=np.sqrt(MSE)\n",
    "    return RMSE\n",
    "    \n",
    "    "
   ]
  }
 ],
 "metadata": {
  "kernelspec": {
   "display_name": "Python 2",
   "language": "python",
   "name": "python2"
  },
  "language_info": {
   "codemirror_mode": {
    "name": "ipython",
    "version": 2
   },
   "file_extension": ".py",
   "mimetype": "text/x-python",
   "name": "python",
   "nbconvert_exporter": "python",
   "pygments_lexer": "ipython2",
   "version": "2.7.13"
  }
 },
 "nbformat": 4,
 "nbformat_minor": 2
}
