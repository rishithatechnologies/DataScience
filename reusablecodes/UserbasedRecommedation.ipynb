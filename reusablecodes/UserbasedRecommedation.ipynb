{
 "cells": [
  {
   "cell_type": "code",
   "execution_count": 121,
   "metadata": {
    "collapsed": true
   },
   "outputs": [],
   "source": [
    "import pandas as pd\n",
    "import numpy as np\n",
    "import pandas as pd\n",
    "import sklearn.metrics.pairwise as pw \n",
    "from sklearn.neighbors import NearestNeighbors\n",
    "from sklearn.feature_extraction.text import TfidfVectorizer \n",
    "from scipy import linalg, dot \n",
    "import csv"
   ]
  },
  {
   "cell_type": "code",
   "execution_count": 12,
   "metadata": {
    "collapsed": false
   },
   "outputs": [
    {
     "name": "stdout",
     "output_type": "stream",
     "text": [
      "[['user1', 'bread', 'butter', 'jam'], ['user2', 'bread', 'butter', 'jam']]\n"
     ]
    }
   ],
   "source": [
    "filename = 'E:/desk/abhudabi/sample.txt'\n",
    "raw_data = open(filename, 'rb')\n",
    "reader = csv.reader(raw_data, delimiter=',', quoting=csv.QUOTE_NONE)\n",
    "x = list(reader)\n",
    "\n",
    "print x\n"
   ]
  },
  {
   "cell_type": "code",
   "execution_count": 8,
   "metadata": {
    "collapsed": true
   },
   "outputs": [],
   "source": [
    "usermap={}\n",
    "userid=0\n",
    "itemmap={}\n",
    "itemid=0"
   ]
  },
  {
   "cell_type": "code",
   "execution_count": 14,
   "metadata": {
    "collapsed": false
   },
   "outputs": [],
   "source": [
    "for row in x:\n",
    "    for i in range(len(row)):\n",
    "        if i==0:\n",
    "            if not usermap.has_key(row[i]):\n",
    "                usermap[row[i]]=userid\n",
    "                userid+=1\n",
    "        else:\n",
    "            if not itemmap.has_key(row[i]):\n",
    "                itemmap[row[i]]=itemid\n",
    "                itemid+=1\n",
    "            \n",
    "        \n"
   ]
  },
  {
   "cell_type": "code",
   "execution_count": 15,
   "metadata": {
    "collapsed": false
   },
   "outputs": [
    {
     "data": {
      "text/plain": [
       "{'bread': 0, 'butter': 1, 'jam': 2}"
      ]
     },
     "execution_count": 15,
     "metadata": {},
     "output_type": "execute_result"
    }
   ],
   "source": []
  },
  {
   "cell_type": "code",
   "execution_count": 46,
   "metadata": {
    "collapsed": true
   },
   "outputs": [],
   "source": [
    "#map users and items with increasing orders\n",
    "    \n",
    "itemdict={1:\"television\", 2:\"player\",3:\"mobile\",4:\"pen\"}    "
   ]
  },
  {
   "cell_type": "code",
   "execution_count": 4,
   "metadata": {
    "collapsed": true
   },
   "outputs": [],
   "source": [
    "#construct user item matrix\n",
    "\n",
    "userItem=np.array([[1,1,1,0],[1,1,0,0],[1,1,1,0],[1,0,1,1]])"
   ]
  },
  {
   "cell_type": "code",
   "execution_count": 5,
   "metadata": {
    "collapsed": false
   },
   "outputs": [
    {
     "data": {
      "text/plain": [
       "NearestNeighbors(algorithm='auto', leaf_size=30, metric='minkowski',\n",
       "         metric_params=None, n_jobs=1, n_neighbors=2, p=2, radius=1.0)"
      ]
     },
     "execution_count": 5,
     "metadata": {},
     "output_type": "execute_result"
    }
   ],
   "source": [
    "#find k nearest neighbour users\n",
    "knn_model=NearestNeighbors(n_neighbors=2)\n",
    "knn_model.fit(userItem)"
   ]
  },
  {
   "cell_type": "code",
   "execution_count": 12,
   "metadata": {
    "collapsed": false
   },
   "outputs": [],
   "source": [
    "top_k_distances,top_k_users = knn_model.kneighbors(userItem, return_distance=True) "
   ]
  },
  {
   "cell_type": "code",
   "execution_count": 14,
   "metadata": {
    "collapsed": false
   },
   "outputs": [
    {
     "name": "stdout",
     "output_type": "stream",
     "text": [
      "[[ 1.          1.        ]\n",
      " [ 1.          2.        ]\n",
      " [ 1.          1.        ]\n",
      " [ 1.          2.41421356]]\n",
      "[[0 2]\n",
      " [1 0]\n",
      " [0 2]\n",
      " [3 2]]\n"
     ]
    }
   ],
   "source": [
    "#added 1 to avoid undefined error\n",
    "top_k_distances=top_k_distances+1\n",
    "\n",
    "#inversed the matrix to give more weight for more similar users\n",
    "top_k_distances=1/top_k_distances\n",
    "print top_k_distances\n",
    "print top_k_users"
   ]
  },
  {
   "cell_type": "code",
   "execution_count": 31,
   "metadata": {
    "collapsed": false
   },
   "outputs": [],
   "source": [
    "user_pred_k=np.zeros(userItem.shape)\n",
    "for i in range(userItem.shape[0]): \n",
    "    user_pred_k[i,:] =   top_k_distances[i].dot(userItem[top_k_users[i]])"
   ]
  },
  {
   "cell_type": "code",
   "execution_count": 32,
   "metadata": {
    "collapsed": false
   },
   "outputs": [
    {
     "name": "stdout",
     "output_type": "stream",
     "text": [
      "[[ 2.          2.          2.          0.        ]\n",
      " [ 1.5         1.5         0.5         0.        ]\n",
      " [ 2.          2.          2.          0.        ]\n",
      " [ 1.41421356  0.41421356  1.41421356  1.        ]]\n",
      "[2 1 0 3]\n",
      "[1 0 2 3]\n",
      "[[1 3 0 2]\n",
      " [3 0 1 2]\n",
      " [3 2 0 1]\n",
      " [3 0 1 2]]\n",
      "[[ 2.  1.  0.  3.]\n",
      " [ 1.  0.  2.  3.]\n",
      " [ 2.  1.  0.  3.]\n",
      " [ 2.  0.  3.  1.]]\n"
     ]
    }
   ],
   "source": [
    "for i in range(user_pred_k.shape[0]):\n",
    "    user_pred_k[i]=user_pred_k[i].argsort()[::-1]\n",
    "    \n",
    "    "
   ]
  },
  {
   "cell_type": "code",
   "execution_count": 38,
   "metadata": {
    "collapsed": true
   },
   "outputs": [],
   "source": [
    "#Predict for user\n",
    "user=1\n"
   ]
  },
  {
   "cell_type": "code",
   "execution_count": 48,
   "metadata": {
    "collapsed": false
   },
   "outputs": [
    {
     "name": "stderr",
     "output_type": "stream",
     "text": [
      "C:\\ProgramData\\Anaconda2\\lib\\site-packages\\ipykernel\\__main__.py:4: VisibleDeprecationWarning: using a non-integer number instead of an integer will result in an error in the future\n"
     ]
    },
    {
     "data": {
      "text/plain": [
       "['player', 'mobile']"
      ]
     },
     "execution_count": 48,
     "metadata": {},
     "output_type": "execute_result"
    }
   ],
   "source": [
    "getRecommendation(user_pred_k,user)"
   ]
  },
  {
   "cell_type": "code",
   "execution_count": 47,
   "metadata": {
    "collapsed": true
   },
   "outputs": [],
   "source": [
    "def getRecommendation(user_pred_k,user):\n",
    "    predictions=[]\n",
    "    for itemnum in user_pred_k[user]:\n",
    "        if userItem[user,itemnum]==0:\n",
    "            predictions.append(itemdict[itemnum])\n",
    "            \n",
    "    return predictions         \n",
    "        \n",
    "    "
   ]
  },
  {
   "cell_type": "code",
   "execution_count": 24,
   "metadata": {
    "collapsed": false
   },
   "outputs": [],
   "source": [
    "#loading ratings data\n",
    "mv_rating=pd.read_csv(\"E:/desk/Irecommend/data/ml-100k/u.data\",sep=\"\\t\",header=None)\n",
    "columns=[\"UserId\",\"MovieId\",\"Rating\",\"TimeStamp\"]\n",
    "mv_rating.columns=columns"
   ]
  },
  {
   "cell_type": "code",
   "execution_count": 46,
   "metadata": {
    "collapsed": false
   },
   "outputs": [
    {
     "data": {
      "text/html": [
       "<div>\n",
       "<table border=\"1\" class=\"dataframe\">\n",
       "  <thead>\n",
       "    <tr style=\"text-align: right;\">\n",
       "      <th></th>\n",
       "      <th>UserId</th>\n",
       "      <th>MovieId</th>\n",
       "      <th>Rating</th>\n",
       "    </tr>\n",
       "  </thead>\n",
       "  <tbody>\n",
       "    <tr>\n",
       "      <th>1</th>\n",
       "      <td>186</td>\n",
       "      <td>302</td>\n",
       "      <td>3</td>\n",
       "    </tr>\n",
       "    <tr>\n",
       "      <th>2</th>\n",
       "      <td>22</td>\n",
       "      <td>377</td>\n",
       "      <td>1</td>\n",
       "    </tr>\n",
       "  </tbody>\n",
       "</table>\n",
       "</div>"
      ],
      "text/plain": [
       "   UserId  MovieId  Rating\n",
       "1     186      302       3\n",
       "2      22      377       1"
      ]
     },
     "execution_count": 46,
     "metadata": {},
     "output_type": "execute_result"
    }
   ],
   "source": [
    "mv_rating=mv_rating.drop([\"TimeStamp\"],axis=1)\n",
    "mv_rating"
   ]
  },
  {
   "cell_type": "code",
   "execution_count": 41,
   "metadata": {
    "collapsed": false
   },
   "outputs": [],
   "source": [
    "##loading movie details\n",
    "\n",
    "mov_details=pd.read_csv(\"E:/desk/Irecommend/data/ml-100k/u.item\",sep=\"|\",header=None)\n",
    "columns=[\"MovieId\",\"MovieTitle\",\"ReleaseDate\",\"IMDbURL\",\"Unknown\",\"Action\",\"Adventure\",\"Animation\",\"Children\",\"Comedy\",\"Crime\",\"Documentary\",\"Drama\",\"Fantasy\",\"FilmNoir\",\"Horror\",\"Musical\",\"Mystery\",\"Romance\",\"SciFi\",\"Thriller\",\"War\",\"Western\"]\n",
    "mov_details.columns=columns"
   ]
  },
  {
   "cell_type": "code",
   "execution_count": 42,
   "metadata": {
    "collapsed": false
   },
   "outputs": [],
   "source": [
    "mv_details=mov_details.drop(['MovieTitle',\"ReleaseDate\",\"IMDbURL\"], axis=1)\n",
    "\n"
   ]
  },
  {
   "cell_type": "code",
   "execution_count": 48,
   "metadata": {
    "collapsed": false
   },
   "outputs": [
    {
     "data": {
      "text/plain": [
       "Index([u'UserId', u'MovieId', u'Rating', u'Unknown', u'Action', u'Adventure',\n",
       "       u'Animation', u'Children', u'Comedy', u'Crime', u'Documentary',\n",
       "       u'Drama', u'Fantasy', u'FilmNoir', u'Horror', u'Musical', u'Mystery',\n",
       "       u'Romance', u'SciFi', u'Thriller', u'War', u'Western'],\n",
       "      dtype='object')"
      ]
     },
     "execution_count": 48,
     "metadata": {},
     "output_type": "execute_result"
    }
   ],
   "source": [
    "\n",
    "rating=pd.merge(mv_rating,mv_details,how='left', on='MovieId')\n",
    "rating.columns"
   ]
  },
  {
   "cell_type": "code",
   "execution_count": 54,
   "metadata": {
    "collapsed": false
   },
   "outputs": [],
   "source": [
    "#loading web data\n",
    "raw_data=pd.read_csv(\"E:/desk/Irecommend/data/websites/anonymous-msweb.test\",header=None,skiprows=7)\n"
   ]
  },
  {
   "cell_type": "code",
   "execution_count": 55,
   "metadata": {
    "collapsed": false
   },
   "outputs": [],
   "source": [
    "user_activity = raw_data.loc[raw_data[0] != \"A\"] "
   ]
  },
  {
   "cell_type": "code",
   "execution_count": 58,
   "metadata": {
    "collapsed": true
   },
   "outputs": [],
   "source": [
    "user_activity = user_activity.loc[:, :1] \n",
    "user_activity.columns = ['category','value'] "
   ]
  },
  {
   "cell_type": "code",
   "execution_count": 61,
   "metadata": {
    "collapsed": false
   },
   "outputs": [
    {
     "name": "stdout",
     "output_type": "stream",
     "text": [
      "236\n",
      "5000\n"
     ]
    }
   ],
   "source": [
    "print len(user_activity[user_activity['category'] ==\"V\"].value.unique()) \n",
    "print len(user_activity[user_activity['category'] ==\"C\"].value.unique()) "
   ]
  },
  {
   "cell_type": "code",
   "execution_count": 69,
   "metadata": {
    "collapsed": false
   },
   "outputs": [
    {
     "data": {
      "text/plain": [
       "20484"
      ]
     },
     "execution_count": 69,
     "metadata": {},
     "output_type": "execute_result"
    }
   ],
   "source": [
    "lastindex = user_activity.index[len(user_activity)-1]\n",
    "lastindex"
   ]
  },
  {
   "cell_type": "code",
   "execution_count": 79,
   "metadata": {
    "collapsed": false
   },
   "outputs": [],
   "source": [
    "for index,row in user_activity.iterrows(): \n",
    "    if(index <= lastindex ): \n",
    "        if(user_activity.loc[index,'category'] == \"C\"): \n",
    "            tmp = 0            \n",
    "            userid = user_activity.loc[index,'value'] \n",
    "            user_activity.loc[index,'userid'] = userid \n",
    "            user_activity.loc[index,'webid'] = userid \n",
    "            tmp = userid \n",
    "            nextrow = True             \n",
    "        elif(user_activity.loc[index,'category'] != \"C\" and nextrow == True): \n",
    "                webid = user_activity.loc[index,'value'] \n",
    "                user_activity.loc[index,'webid'] = webid \n",
    "                user_activity.loc[index,'userid'] = tmp \n",
    "                if(index != lastindex and user_activity.loc[index+1,'category'] == \"C\"): \n",
    "                    nextrow = False \n",
    "                    caseid = 0 "
   ]
  },
  {
   "cell_type": "code",
   "execution_count": 83,
   "metadata": {
    "collapsed": false
   },
   "outputs": [],
   "source": [
    "user_activity = user_activity[user_activity['category'] == \"V\" ] \n",
    "user_activity = user_activity[['userid','webid']] \n"
   ]
  },
  {
   "cell_type": "code",
   "execution_count": 86,
   "metadata": {
    "collapsed": false
   },
   "outputs": [
    {
     "name": "stderr",
     "output_type": "stream",
     "text": [
      "C:\\ProgramData\\Anaconda2\\lib\\site-packages\\ipykernel\\__main__.py:1: FutureWarning: sort(columns=....) is deprecated, use sort_values(by=.....)\n",
      "  if __name__ == '__main__':\n"
     ]
    },
    {
     "data": {
      "text/html": [
       "<div>\n",
       "<table border=\"1\" class=\"dataframe\">\n",
       "  <thead>\n",
       "    <tr style=\"text-align: right;\">\n",
       "      <th></th>\n",
       "      <th>userid</th>\n",
       "      <th>webid</th>\n",
       "    </tr>\n",
       "  </thead>\n",
       "  <tbody>\n",
       "    <tr>\n",
       "      <th>8022</th>\n",
       "      <td>11900.0</td>\n",
       "      <td>1000.0</td>\n",
       "    </tr>\n",
       "    <tr>\n",
       "      <th>18070</th>\n",
       "      <td>14410.0</td>\n",
       "      <td>1000.0</td>\n",
       "    </tr>\n",
       "    <tr>\n",
       "      <th>11340</th>\n",
       "      <td>12724.0</td>\n",
       "      <td>1000.0</td>\n",
       "    </tr>\n",
       "    <tr>\n",
       "      <th>13101</th>\n",
       "      <td>13148.0</td>\n",
       "      <td>1000.0</td>\n",
       "    </tr>\n",
       "    <tr>\n",
       "      <th>15461</th>\n",
       "      <td>13738.0</td>\n",
       "      <td>1000.0</td>\n",
       "    </tr>\n",
       "  </tbody>\n",
       "</table>\n",
       "</div>"
      ],
      "text/plain": [
       "        userid   webid\n",
       "8022   11900.0  1000.0\n",
       "18070  14410.0  1000.0\n",
       "11340  12724.0  1000.0\n",
       "13101  13148.0  1000.0\n",
       "15461  13738.0  1000.0"
      ]
     },
     "execution_count": 86,
     "metadata": {},
     "output_type": "execute_result"
    }
   ],
   "source": [
    "user_activity_sort = user_activity.sort('webid', ascending=True) \n",
    "user_activity_sort.head()"
   ]
  },
  {
   "cell_type": "code",
   "execution_count": 87,
   "metadata": {
    "collapsed": true
   },
   "outputs": [],
   "source": [
    "sLength = len(user_activity_sort['webid'])"
   ]
  },
  {
   "cell_type": "code",
   "execution_count": 90,
   "metadata": {
    "collapsed": false
   },
   "outputs": [],
   "source": [
    "user_activity_sort['rating']=pd.Series(np.ones(sLength),index=user_activity.index)"
   ]
  },
  {
   "cell_type": "code",
   "execution_count": 91,
   "metadata": {
    "collapsed": false
   },
   "outputs": [
    {
     "data": {
      "text/html": [
       "<div>\n",
       "<table border=\"1\" class=\"dataframe\">\n",
       "  <thead>\n",
       "    <tr style=\"text-align: right;\">\n",
       "      <th>webid</th>\n",
       "      <th>1000.0</th>\n",
       "      <th>1001.0</th>\n",
       "      <th>1002.0</th>\n",
       "      <th>1003.0</th>\n",
       "      <th>1004.0</th>\n",
       "      <th>1005.0</th>\n",
       "      <th>1006.0</th>\n",
       "      <th>1007.0</th>\n",
       "      <th>1008.0</th>\n",
       "      <th>1009.0</th>\n",
       "      <th>...</th>\n",
       "      <th>1252.0</th>\n",
       "      <th>1253.0</th>\n",
       "      <th>1256.0</th>\n",
       "      <th>1257.0</th>\n",
       "      <th>1258.0</th>\n",
       "      <th>1261.0</th>\n",
       "      <th>1266.0</th>\n",
       "      <th>1278.0</th>\n",
       "      <th>1295.0</th>\n",
       "      <th>1297.0</th>\n",
       "    </tr>\n",
       "    <tr>\n",
       "      <th>userid</th>\n",
       "      <th></th>\n",
       "      <th></th>\n",
       "      <th></th>\n",
       "      <th></th>\n",
       "      <th></th>\n",
       "      <th></th>\n",
       "      <th></th>\n",
       "      <th></th>\n",
       "      <th></th>\n",
       "      <th></th>\n",
       "      <th></th>\n",
       "      <th></th>\n",
       "      <th></th>\n",
       "      <th></th>\n",
       "      <th></th>\n",
       "      <th></th>\n",
       "      <th></th>\n",
       "      <th></th>\n",
       "      <th></th>\n",
       "      <th></th>\n",
       "      <th></th>\n",
       "    </tr>\n",
       "  </thead>\n",
       "  <tbody>\n",
       "    <tr>\n",
       "      <th>10001.0</th>\n",
       "      <td>0.0</td>\n",
       "      <td>0.0</td>\n",
       "      <td>0.0</td>\n",
       "      <td>0.0</td>\n",
       "      <td>0.0</td>\n",
       "      <td>0.0</td>\n",
       "      <td>0.0</td>\n",
       "      <td>0.0</td>\n",
       "      <td>0.0</td>\n",
       "      <td>0.0</td>\n",
       "      <td>...</td>\n",
       "      <td>0.0</td>\n",
       "      <td>0.0</td>\n",
       "      <td>0.0</td>\n",
       "      <td>0.0</td>\n",
       "      <td>0.0</td>\n",
       "      <td>0.0</td>\n",
       "      <td>0.0</td>\n",
       "      <td>0.0</td>\n",
       "      <td>0.0</td>\n",
       "      <td>0.0</td>\n",
       "    </tr>\n",
       "    <tr>\n",
       "      <th>10002.0</th>\n",
       "      <td>0.0</td>\n",
       "      <td>0.0</td>\n",
       "      <td>0.0</td>\n",
       "      <td>0.0</td>\n",
       "      <td>0.0</td>\n",
       "      <td>0.0</td>\n",
       "      <td>0.0</td>\n",
       "      <td>0.0</td>\n",
       "      <td>1.0</td>\n",
       "      <td>0.0</td>\n",
       "      <td>...</td>\n",
       "      <td>0.0</td>\n",
       "      <td>0.0</td>\n",
       "      <td>0.0</td>\n",
       "      <td>0.0</td>\n",
       "      <td>0.0</td>\n",
       "      <td>0.0</td>\n",
       "      <td>0.0</td>\n",
       "      <td>0.0</td>\n",
       "      <td>0.0</td>\n",
       "      <td>0.0</td>\n",
       "    </tr>\n",
       "    <tr>\n",
       "      <th>10003.0</th>\n",
       "      <td>0.0</td>\n",
       "      <td>0.0</td>\n",
       "      <td>0.0</td>\n",
       "      <td>0.0</td>\n",
       "      <td>0.0</td>\n",
       "      <td>0.0</td>\n",
       "      <td>0.0</td>\n",
       "      <td>1.0</td>\n",
       "      <td>0.0</td>\n",
       "      <td>0.0</td>\n",
       "      <td>...</td>\n",
       "      <td>0.0</td>\n",
       "      <td>0.0</td>\n",
       "      <td>0.0</td>\n",
       "      <td>0.0</td>\n",
       "      <td>0.0</td>\n",
       "      <td>0.0</td>\n",
       "      <td>0.0</td>\n",
       "      <td>0.0</td>\n",
       "      <td>0.0</td>\n",
       "      <td>0.0</td>\n",
       "    </tr>\n",
       "    <tr>\n",
       "      <th>10004.0</th>\n",
       "      <td>0.0</td>\n",
       "      <td>0.0</td>\n",
       "      <td>0.0</td>\n",
       "      <td>0.0</td>\n",
       "      <td>1.0</td>\n",
       "      <td>0.0</td>\n",
       "      <td>0.0</td>\n",
       "      <td>0.0</td>\n",
       "      <td>0.0</td>\n",
       "      <td>0.0</td>\n",
       "      <td>...</td>\n",
       "      <td>0.0</td>\n",
       "      <td>0.0</td>\n",
       "      <td>0.0</td>\n",
       "      <td>0.0</td>\n",
       "      <td>0.0</td>\n",
       "      <td>0.0</td>\n",
       "      <td>0.0</td>\n",
       "      <td>0.0</td>\n",
       "      <td>0.0</td>\n",
       "      <td>0.0</td>\n",
       "    </tr>\n",
       "    <tr>\n",
       "      <th>10005.0</th>\n",
       "      <td>0.0</td>\n",
       "      <td>1.0</td>\n",
       "      <td>0.0</td>\n",
       "      <td>0.0</td>\n",
       "      <td>1.0</td>\n",
       "      <td>0.0</td>\n",
       "      <td>1.0</td>\n",
       "      <td>0.0</td>\n",
       "      <td>1.0</td>\n",
       "      <td>1.0</td>\n",
       "      <td>...</td>\n",
       "      <td>0.0</td>\n",
       "      <td>0.0</td>\n",
       "      <td>0.0</td>\n",
       "      <td>0.0</td>\n",
       "      <td>0.0</td>\n",
       "      <td>0.0</td>\n",
       "      <td>0.0</td>\n",
       "      <td>0.0</td>\n",
       "      <td>0.0</td>\n",
       "      <td>0.0</td>\n",
       "    </tr>\n",
       "  </tbody>\n",
       "</table>\n",
       "<p>5 rows × 236 columns</p>\n",
       "</div>"
      ],
      "text/plain": [
       "webid    1000.0  1001.0  1002.0  1003.0  1004.0  1005.0  1006.0  1007.0  \\\n",
       "userid                                                                    \n",
       "10001.0     0.0     0.0     0.0     0.0     0.0     0.0     0.0     0.0   \n",
       "10002.0     0.0     0.0     0.0     0.0     0.0     0.0     0.0     0.0   \n",
       "10003.0     0.0     0.0     0.0     0.0     0.0     0.0     0.0     1.0   \n",
       "10004.0     0.0     0.0     0.0     0.0     1.0     0.0     0.0     0.0   \n",
       "10005.0     0.0     1.0     0.0     0.0     1.0     0.0     1.0     0.0   \n",
       "\n",
       "webid    1008.0  1009.0   ...    1252.0  1253.0  1256.0  1257.0  1258.0  \\\n",
       "userid                    ...                                             \n",
       "10001.0     0.0     0.0   ...       0.0     0.0     0.0     0.0     0.0   \n",
       "10002.0     1.0     0.0   ...       0.0     0.0     0.0     0.0     0.0   \n",
       "10003.0     0.0     0.0   ...       0.0     0.0     0.0     0.0     0.0   \n",
       "10004.0     0.0     0.0   ...       0.0     0.0     0.0     0.0     0.0   \n",
       "10005.0     1.0     1.0   ...       0.0     0.0     0.0     0.0     0.0   \n",
       "\n",
       "webid    1261.0  1266.0  1278.0  1295.0  1297.0  \n",
       "userid                                           \n",
       "10001.0     0.0     0.0     0.0     0.0     0.0  \n",
       "10002.0     0.0     0.0     0.0     0.0     0.0  \n",
       "10003.0     0.0     0.0     0.0     0.0     0.0  \n",
       "10004.0     0.0     0.0     0.0     0.0     0.0  \n",
       "10005.0     0.0     0.0     0.0     0.0     0.0  \n",
       "\n",
       "[5 rows x 236 columns]"
      ]
     },
     "execution_count": 91,
     "metadata": {},
     "output_type": "execute_result"
    }
   ],
   "source": [
    "ratmat = user_activity_sort.pivot(index='userid', columns='webid', values='rating').fillna(0) \n",
    "\n",
    "ratmat.head()"
   ]
  },
  {
   "cell_type": "code",
   "execution_count": 92,
   "metadata": {
    "collapsed": false
   },
   "outputs": [
    {
     "name": "stdout",
     "output_type": "stream",
     "text": [
      "<class 'pandas.core.frame.DataFrame'>\n",
      "<type 'numpy.ndarray'>\n"
     ]
    }
   ],
   "source": [
    "print type(ratmat)\n",
    "ratmat = ratmat.to_dense().as_matrix() \n",
    "print type(ratmat)"
   ]
  },
  {
   "cell_type": "code",
   "execution_count": 95,
   "metadata": {
    "collapsed": false
   },
   "outputs": [
    {
     "ename": "SyntaxError",
     "evalue": "invalid syntax (<ipython-input-95-30d02f01c018>, line 2)",
     "output_type": "error",
     "traceback": [
      "\u001b[0;36m  File \u001b[0;32m\"<ipython-input-95-30d02f01c018>\"\u001b[0;36m, line \u001b[0;32m2\u001b[0m\n\u001b[0;31m    print .\u001b[0m\n\u001b[0m          ^\u001b[0m\n\u001b[0;31mSyntaxError\u001b[0m\u001b[0;31m:\u001b[0m invalid syntax\n"
     ]
    }
   ],
   "source": [
    "ratmat[1:5]\n"
   ]
  },
  {
   "cell_type": "code",
   "execution_count": 103,
   "metadata": {
    "collapsed": false
   },
   "outputs": [
    {
     "name": "stdout",
     "output_type": "stream",
     "text": [
      "   k\n",
      "0  1\n",
      "1  2\n",
      "2  3\n",
      "[[1]\n",
      " [2]\n",
      " [3]]\n",
      "[[1]\n",
      " [2]\n",
      " [3]]\n"
     ]
    }
   ],
   "source": [
    "df=pd.DataFrame()\n",
    "df[\"k\"]=[1,2,3]\n",
    "print df\n",
    "print df.to_dense().as_matrix()\n",
    "print df.as_matrix()"
   ]
  },
  {
   "cell_type": "code",
   "execution_count": 105,
   "metadata": {
    "collapsed": true
   },
   "outputs": [],
   "source": [
    "#item profile generation\n",
    "\n",
    "items = raw_data.loc[raw_data[0] == \"A\"] \n",
    "items.columns = ['record','webid','vote','desc','url'] "
   ]
  },
  {
   "cell_type": "code",
   "execution_count": 107,
   "metadata": {
    "collapsed": false
   },
   "outputs": [
    {
     "data": {
      "text/html": [
       "<div>\n",
       "<table border=\"1\" class=\"dataframe\">\n",
       "  <thead>\n",
       "    <tr style=\"text-align: right;\">\n",
       "      <th></th>\n",
       "      <th>webid</th>\n",
       "      <th>desc</th>\n",
       "    </tr>\n",
       "  </thead>\n",
       "  <tbody>\n",
       "    <tr>\n",
       "      <th>0</th>\n",
       "      <td>1277</td>\n",
       "      <td>NetShow for PowerPoint</td>\n",
       "    </tr>\n",
       "    <tr>\n",
       "      <th>1</th>\n",
       "      <td>1253</td>\n",
       "      <td>MS Word Development</td>\n",
       "    </tr>\n",
       "    <tr>\n",
       "      <th>2</th>\n",
       "      <td>1109</td>\n",
       "      <td>TechNet (World Wide Web Edition)</td>\n",
       "    </tr>\n",
       "    <tr>\n",
       "      <th>3</th>\n",
       "      <td>1038</td>\n",
       "      <td>SiteBuilder Network Membership</td>\n",
       "    </tr>\n",
       "    <tr>\n",
       "      <th>4</th>\n",
       "      <td>1205</td>\n",
       "      <td>Hardware Supprt</td>\n",
       "    </tr>\n",
       "  </tbody>\n",
       "</table>\n",
       "</div>"
      ],
      "text/plain": [
       "   webid                              desc\n",
       "0   1277            NetShow for PowerPoint\n",
       "1   1253               MS Word Development\n",
       "2   1109  TechNet (World Wide Web Edition)\n",
       "3   1038    SiteBuilder Network Membership\n",
       "4   1205                   Hardware Supprt"
      ]
     },
     "execution_count": 107,
     "metadata": {},
     "output_type": "execute_result"
    }
   ],
   "source": [
    "items = items[['webid','desc']] \n",
    "items.head()"
   ]
  },
  {
   "cell_type": "code",
   "execution_count": 111,
   "metadata": {
    "collapsed": false
   },
   "outputs": [],
   "source": [
    "items2=items[items[\"webid\"].isin(user_activity['webid'].tolist())]"
   ]
  },
  {
   "cell_type": "code",
   "execution_count": 112,
   "metadata": {
    "collapsed": false
   },
   "outputs": [
    {
     "name": "stderr",
     "output_type": "stream",
     "text": [
      "C:\\ProgramData\\Anaconda2\\lib\\site-packages\\ipykernel\\__main__.py:1: FutureWarning: sort(columns=....) is deprecated, use sort_values(by=.....)\n",
      "  if __name__ == '__main__':\n"
     ]
    }
   ],
   "source": [
    "items_sort = items2.sort('webid', ascending=True)"
   ]
  },
  {
   "cell_type": "code",
   "execution_count": 114,
   "metadata": {
    "collapsed": true
   },
   "outputs": [],
   "source": [
    "v = TfidfVectorizer(stop_words =\"english\",max_features = 100,ngram_range= (0,3),sublinear_tf =True) \n",
    "\n",
    "x = v.fit_transform(items_sort['desc']) \n"
   ]
  },
  {
   "cell_type": "code",
   "execution_count": 119,
   "metadata": {
    "collapsed": false
   },
   "outputs": [],
   "source": [
    "\n",
    "itemprof =x.todense()"
   ]
  },
  {
   "cell_type": "code",
   "execution_count": 122,
   "metadata": {
    "collapsed": false
   },
   "outputs": [],
   "source": [
    "#user profile creation\n",
    "\n",
    "userprof = dot(ratmat,itemprof)/linalg.norm(ratmat)/linalg.norm(itemprof) "
   ]
  },
  {
   "cell_type": "code",
   "execution_count": 129,
   "metadata": {
    "collapsed": false
   },
   "outputs": [
    {
     "data": {
      "text/plain": [
       "matrix([[ 0.00089668,  0.        ,  0.        ,  0.        ,  0.        ,\n",
       "          0.        ,  0.        ,  0.        ,  0.        ,  0.        ,\n",
       "          0.        ,  0.        ,  0.        ,  0.        ,  0.        ,\n",
       "          0.        ,  0.        ,  0.        ,  0.        ,  0.        ,\n",
       "          0.        ,  0.        ,  0.00048815,  0.        ,  0.        ,\n",
       "          0.        ,  0.00050106,  0.        ,  0.        ,  0.        ,\n",
       "          0.        ,  0.        ,  0.        ,  0.        ,  0.        ,\n",
       "          0.        ,  0.        ,  0.        ,  0.        ,  0.        ,\n",
       "          0.        ,  0.        ,  0.        ,  0.        ,  0.        ,\n",
       "          0.        ,  0.        ,  0.        ,  0.        ,  0.        ,\n",
       "          0.        ,  0.        ,  0.        ,  0.        ,  0.        ,\n",
       "          0.        ,  0.        ,  0.        ,  0.        ,  0.        ,\n",
       "          0.        ,  0.        ,  0.        ,  0.        ,  0.        ,\n",
       "          0.        ,  0.        ,  0.        ,  0.        ,  0.        ,\n",
       "          0.        ,  0.        ,  0.        ,  0.        ,  0.        ,\n",
       "          0.        ,  0.        ,  0.        ,  0.        ,  0.        ,\n",
       "          0.        ,  0.        ,  0.        ,  0.        ,  0.        ,\n",
       "          0.        ,  0.        ,  0.        ,  0.        ,  0.        ,\n",
       "          0.        ,  0.        ,  0.        ,  0.        ,  0.        ,\n",
       "          0.        ,  0.        ,  0.        ,  0.        ,  0.        ],\n",
       "        [ 0.00144708,  0.        ,  0.        ,  0.        ,  0.        ,\n",
       "          0.000205  ,  0.00021661,  0.00049191,  0.        ,  0.        ,\n",
       "          0.        ,  0.00063787,  0.        ,  0.        ,  0.00029973,\n",
       "          0.0002922 ,  0.        ,  0.        ,  0.        ,  0.        ,\n",
       "          0.        ,  0.        ,  0.        ,  0.        ,  0.        ,\n",
       "          0.        ,  0.        ,  0.        ,  0.        ,  0.0002842 ,\n",
       "          0.        ,  0.        ,  0.00026699,  0.        ,  0.        ,\n",
       "          0.00030029,  0.        ,  0.        ,  0.        ,  0.        ,\n",
       "          0.        ,  0.        ,  0.        ,  0.        ,  0.        ,\n",
       "          0.000276  ,  0.        ,  0.        ,  0.        ,  0.        ,\n",
       "          0.        ,  0.        ,  0.        ,  0.00029084,  0.00086715,\n",
       "          0.00024934,  0.        ,  0.        ,  0.        ,  0.        ,\n",
       "          0.        ,  0.        ,  0.00040976,  0.        ,  0.        ,\n",
       "          0.        ,  0.        ,  0.        ,  0.        ,  0.        ,\n",
       "          0.        ,  0.        ,  0.        ,  0.        ,  0.        ,\n",
       "          0.        ,  0.00048838,  0.000205  ,  0.00021661,  0.        ,\n",
       "          0.        ,  0.        ,  0.00030029,  0.        ,  0.        ,\n",
       "          0.        ,  0.        ,  0.        ,  0.        ,  0.        ,\n",
       "          0.        ,  0.        ,  0.        ,  0.        ,  0.        ,\n",
       "          0.00029084,  0.0005941 ,  0.        ,  0.        ,  0.        ]])"
      ]
     },
     "execution_count": 129,
     "metadata": {},
     "output_type": "execute_result"
    }
   ],
   "source": [
    "userprof[1:3]"
   ]
  },
  {
   "cell_type": "code",
   "execution_count": 135,
   "metadata": {
    "collapsed": false
   },
   "outputs": [
    {
     "data": {
      "text/plain": [
       "2.8284271247461903"
      ]
     },
     "execution_count": 135,
     "metadata": {},
     "output_type": "execute_result"
    }
   ],
   "source": [
    "linalg.norm([2,2])"
   ]
  },
  {
   "cell_type": "code",
   "execution_count": null,
   "metadata": {
    "collapsed": true
   },
   "outputs": [],
   "source": []
  }
 ],
 "metadata": {
  "kernelspec": {
   "display_name": "Python 2",
   "language": "python",
   "name": "python2"
  },
  "language_info": {
   "codemirror_mode": {
    "name": "ipython",
    "version": 2
   },
   "file_extension": ".py",
   "mimetype": "text/x-python",
   "name": "python",
   "nbconvert_exporter": "python",
   "pygments_lexer": "ipython2",
   "version": "2.7.13"
  }
 },
 "nbformat": 4,
 "nbformat_minor": 2
}
